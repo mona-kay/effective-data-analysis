{
 "cells": [
  {
   "cell_type": "markdown",
   "id": "d1f6d79d-07f1-4d35-bb98-c24f45f6657e",
   "metadata": {},
   "source": [
    "# Chapter 4"
   ]
  },
  {
   "cell_type": "markdown",
   "id": "56e470a3-29ad-43d5-8fe4-b70fc9e7ecac",
   "metadata": {},
   "source": [
    "## 4.1"
   ]
  },
  {
   "cell_type": "code",
   "execution_count": null,
   "id": "cd3a0cbf-feb6-400a-80a7-40651c95f3c9",
   "metadata": {},
   "outputs": [],
   "source": [
    "import pandas as pd    #A\n",
    "weather = pd.read_csv(\"nyc_boston_weather.csv\", index_col=0)   #B\n",
    "print(list(weather.nyc))   #C\n",
    "\n",
    "#A Import pandas library\n",
    "#B Import weather dataset\n",
    "#C Print the NYC daily temperatures "
   ]
  },
  {
   "cell_type": "markdown",
   "id": "e44a6b39-e5e9-4ad1-a086-cccbffc1c58a",
   "metadata": {},
   "source": [
    "## 4.1.1"
   ]
  },
  {
   "cell_type": "code",
   "execution_count": null,
   "id": "0a68a95a-1e44-40f7-9a9c-8ada67095203",
   "metadata": {},
   "outputs": [],
   "source": [
    "import numpy as np    #A\n",
    "import matplotlib.pyplot as plt\n",
    "import seaborn as sns\n",
    "\n",
    "m, sd = 63.5, 2.5    #B\n",
    "dist = np.random.normal(loc=m, scale=sd, size=25000)\n",
    "\n",
    "sns.histplot(dist, bins = 100, color = \"white\")    #C\n",
    "plt.axvline(np.mean(dist), color = \"black\", linestyle = \"dotted\")\n",
    "plt.title(f\"Normal Distribution with Mean {m} and Standard Deviation {sd}\");\n",
    "\n",
    "#A Import libraries\n",
    "#B Generate a normal distribution with 25000 data points\n",
    "#C Plot the distribution with a vertical line for the mean"
   ]
  },
  {
   "cell_type": "markdown",
   "id": "c5fa210f-c6bf-422c-bcd5-631c8a1f6b8e",
   "metadata": {},
   "source": [
    "## 4.2"
   ]
  },
  {
   "cell_type": "code",
   "execution_count": null,
   "id": "84811628-df6e-49df-9207-22acd8dcd196",
   "metadata": {},
   "outputs": [],
   "source": [
    "from scipy.stats import skewnorm    #A\n",
    "import matplotlib.pyplot as plt\n",
    "\n",
    "positive_skew = skewnorm.rvs(4, size = 25000)    #B\n",
    "negative_skew = skewnorm.rvs(-3, size = 25000)\n",
    "\n",
    "fig, ax = plt.subplots(2, 2, sharey = True)    #C\n",
    "ax[0][0].hist(positive_skew, bins = 25)\n",
    "ax[0][1].hist(np.sqrt(positive_skew+1), bins = 25)\n",
    "ax[1][0].hist(negative_skew, bins = 25)\n",
    "ax[1][1].hist((negative_skew+5)**2, bins = 25);\n",
    "\n",
    "#A Import libraries\n",
    "#B Generate positively and negatively skewed distributions\n",
    "#C Plot the original and transformed distributions"
   ]
  },
  {
   "cell_type": "markdown",
   "id": "eaee5685-f353-48b8-bba1-c9be62382b35",
   "metadata": {},
   "source": [
    "## 4.2.1"
   ]
  },
  {
   "cell_type": "code",
   "execution_count": null,
   "id": "17530f08-c241-49f8-8559-d2fda6d75550",
   "metadata": {},
   "outputs": [],
   "source": [
    "from statsmodels.stats.power import FTestAnovaPower    #A\n",
    "\n",
    "pwr = FTestAnovaPower()\n",
    "sample = pwr.solve_power(effect_size = 0.3, \n",
    "     power = 0.8, \n",
    "     alpha = 0.05,\n",
    "     k_groups = 4)    #B\n",
    "print(sample)\n",
    "\n",
    "#A Import libraries\n",
    "#B Calculate and print the recommended sample size"
   ]
  },
  {
   "cell_type": "code",
   "execution_count": null,
   "id": "23713c86-c48d-4529-bec0-197551a74b08",
   "metadata": {},
   "outputs": [],
   "source": []
  }
 ],
 "metadata": {
  "kernelspec": {
   "display_name": "Python 3 (ipykernel)",
   "language": "python",
   "name": "python3"
  },
  "language_info": {
   "codemirror_mode": {
    "name": "ipython",
    "version": 3
   },
   "file_extension": ".py",
   "mimetype": "text/x-python",
   "name": "python",
   "nbconvert_exporter": "python",
   "pygments_lexer": "ipython3",
   "version": "3.12.5"
  }
 },
 "nbformat": 4,
 "nbformat_minor": 5
}
