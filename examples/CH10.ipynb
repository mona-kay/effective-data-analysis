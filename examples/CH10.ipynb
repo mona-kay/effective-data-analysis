{
 "cells": [
  {
   "cell_type": "markdown",
   "id": "f2736653-8b65-43f2-a46d-c511ca2b595a",
   "metadata": {},
   "source": [
    "# Chapter 10"
   ]
  },
  {
   "cell_type": "markdown",
   "id": "c06703e7-dd63-4a39-a29b-70d78193002e",
   "metadata": {
    "tags": []
   },
   "source": [
    "## 10.1.1"
   ]
  },
  {
   "cell_type": "code",
   "execution_count": null,
   "id": "3ddc596e-24f3-4bfa-ada0-47d3263f1d3f",
   "metadata": {},
   "outputs": [],
   "source": [
    "import requests\n",
    "import json    #A\n",
    "\n",
    "url = \"https://api.weather.gov/gridpoints/OKX/34,36/forecast\"   #B\n",
    "response = requests.get(url)   #C\n",
    "print(response)   #D\n",
    "\n",
    "#A Import requests and json libraries\n",
    "#B Define the URL \n",
    "#C Use the requests library to call the API using the parameters we defined\n",
    "#D Print the response from the API"
   ]
  },
  {
   "cell_type": "code",
   "execution_count": null,
   "id": "cbbca426-9086-4bf7-ae08-eb552cc16cd5",
   "metadata": {},
   "outputs": [],
   "source": [
    "forecast = response.json()    #A\n",
    "print(forecast.keys())    #B\n",
    "\n",
    "#A Save the response as a JSON format\n",
    "#B Print the keys of the new JSON object"
   ]
  },
  {
   "cell_type": "code",
   "execution_count": null,
   "id": "34eee71c-29d1-4d15-a2a9-2f76baee751e",
   "metadata": {},
   "outputs": [],
   "source": [
    "print(forecast[\"properties\"][\"periods\"])    #A\n",
    "\n",
    "#A Print the contents of the nested forecast periods"
   ]
  },
  {
   "cell_type": "code",
   "execution_count": null,
   "id": "03961e86-c37b-41b7-9298-b903e04e6de8",
   "metadata": {},
   "outputs": [],
   "source": [
    "import pandas as pd    #A\n",
    "\n",
    "forecast_df = pd.DataFrame(forecast[\"properties\"][\"periods\"])    #B\n",
    "forecast_df[\n",
    "    [\"endTime\", \"isDaytime\", \"temperature\", \"windSpeed\"]\n",
    "].head()  # C\n",
    "\n",
    "#A Import the pandas library\n",
    "#B Save the forecast JSON as a pandas dataframe\n",
    "#C Display only the columns we need"
   ]
  },
  {
   "cell_type": "code",
   "execution_count": null,
   "id": "ef7088ce-4c2e-4729-99ff-752a85e02237",
   "metadata": {},
   "outputs": [],
   "source": [
    "import re    #A\n",
    "\n",
    "def get_wind_speed(row):    #B\n",
    "    numbers = [int(num) for num in re.findall(r'\\d+', row)]\n",
    "    return max(numbers)\n",
    "\n",
    "forecast_df[\"date\"] = pd.to_datetime(forecast_df['endTime']).dt.date    #C\n",
    "\n",
    "forecast_df[\"wind_speed\"] = forecast_df[\"windSpeed\"].apply(\n",
    "    get_wind_speed\n",
    ")  # D\n",
    "\n",
    "forecast_df[[\"date\", \"temperature\", \"wind_speed\"]].head()    #E\n",
    "\n",
    "#A Import the regular expressions library\n",
    "#B Define a custom function that finds all integers and returns the maximum of those values\n",
    "#C Convert the endTime field to a calendar date\n",
    "#D Apply the custom function to extract only the highest wind speed integer\n",
    "#E Display the first five rows of the new data"
   ]
  },
  {
   "cell_type": "code",
   "execution_count": null,
   "id": "28439501-89e6-4bb6-abc4-c08cc26b115e",
   "metadata": {},
   "outputs": [],
   "source": [
    "daily_forecast = (    #A \n",
    "    forecast_df.groupby(\"date\")\n",
    "    .agg({\n",
    "        \"temperature\": [\"min\", \"max\"],\n",
    "        \"wind_speed\": \"max\"})\n",
    "    .reset_index()\n",
    ")\n",
    "\n",
    "daily_forecast.columns = [    #B\n",
    "\"date\", \"low_temp\", \"high_temp\", \"wind_speed\"\n",
    "]\n",
    "\n",
    "daily_forecast.head()    #C\n",
    " \n",
    "#A Aggregate the forecast data by day\n",
    "#B Rename the columns\n",
    "#C Display the first five rows of the new dataframe"
   ]
  },
  {
   "cell_type": "markdown",
   "id": "ad21deae-0f9c-4ade-b882-84f00a928840",
   "metadata": {},
   "source": [
    "# 10.2.1"
   ]
  },
  {
   "cell_type": "code",
   "execution_count": null,
   "id": "6ce60d8e-9b04-4702-bda3-42920ddc5e3b",
   "metadata": {},
   "outputs": [],
   "source": [
    "##### UPDATE CODE IN BOOK #####\n",
    "\n",
    "lat, lon = 40.7392, -73.9829  # A\n",
    "\n",
    "url = f\"https://forecast.weather.gov/MapClick.php?lat={lat}&lon={lon}\"  # B\n",
    "headers = {\n",
    "    \"User-Agent\": \"Mona's data exploration\"\n",
    "}\n",
    "\n",
    "response = requests.get(url, headers = headers)  # C\n",
    "print(response)  # D\n",
    "\n",
    "#A Create the latitude and longitude variables for the New York City weather station\n",
    "#B Create the URL for the forecast page using our latitude and longitude variables\n",
    "#C Use the requests library to call the API using the parameters we defined\n",
    "#D Print the response from the API"
   ]
  },
  {
   "cell_type": "code",
   "execution_count": null,
   "id": "23b89a8a-57d9-41a4-8850-39e95247cad2",
   "metadata": {},
   "outputs": [],
   "source": [
    "print(response.text)    #A\n",
    "\n",
    "#A Print the content of the response"
   ]
  },
  {
   "cell_type": "code",
   "execution_count": null,
   "id": "f7f08861-7817-4158-a631-0088e1ed5563",
   "metadata": {},
   "outputs": [],
   "source": [
    "from bs4 import BeautifulSoup  # A\n",
    "\n",
    "soup = BeautifulSoup(response.text, \"html.parser\")  # B\n",
    "print(soup.prettify())  # C\n",
    "\n",
    "#A Import the BeautifulSoup library\n",
    "#B Create a soup object with the parsed HTML data\n",
    "#C Print the formatted HTML content"
   ]
  },
  {
   "cell_type": "code",
   "execution_count": null,
   "id": "89446ffb-86e1-4d55-ae98-225e304b89d2",
   "metadata": {},
   "outputs": [],
   "source": [
    "forecast_items = soup.find_all(\"div\", class_=\"tombstone-container\")  # A\n",
    "\n",
    "for item in forecast_items:  # B\n",
    "    print(item.text, item.img)\n",
    "\n",
    "#A Retrieve all HTML content inside the section with the class “tombstone-container” \n",
    "#B Print the text of each forecast item found inside the section"
   ]
  },
  {
   "cell_type": "code",
   "execution_count": null,
   "id": "b47fab0b-8e9b-485a-bb14-832847cc0374",
   "metadata": {},
   "outputs": [],
   "source": [
    "forecast_data = []\n",
    "\n",
    "for item in forecast_items:    #A\n",
    "    period = (    #B\n",
    "        item.find(\"p\", class_=\"period-name\")\n",
    "        .get_text()\n",
    "        .replace(\"Night\", \"\")\n",
    "    )\n",
    "    temp = item.find(\"p\", class_=\"temp\").get_text()    #C\n",
    "\n",
    "    wind_text = item.find(\"img\")[\"alt\"]    #D\n",
    "\n",
    "    forecast_data.append(    #E\n",
    "        {\n",
    "            \"date\": period,\n",
    "            \"temp\": temp,\n",
    "            \"wind_speed\": wind_text,\n",
    "        }\n",
    "    )\n",
    "\n",
    "forecast_data = pd.DataFrame(forecast_data)    #F\n",
    "forecast_data.head()\n",
    "\n",
    "#A Create a for loop to process each forecast record\n",
    "#B Extract the name of the day of week, and remove the word “Night”\n",
    "#C Extract the temperature value for the time period\n",
    "#D Extract the sentence that contains the wind speed\n",
    "#E Append each processed record to a dataset\n",
    "#F Convert the dataset to a dataframe and display the first five rows "
   ]
  },
  {
   "cell_type": "code",
   "execution_count": null,
   "id": "1e97bfdf-c084-48d7-b4ae-24e5938cf763",
   "metadata": {},
   "outputs": [],
   "source": [
    "import re     #A\n",
    "forecast_data[\"temp\"] = [    #B\n",
    "    int(re.search(r\"\\d+\", t).group()) for t in forecast_data[\"temp\"]\n",
    "]\n",
    "forecast_data.head()    #C\n",
    "\n",
    "#A Import the re library\n",
    "#B Loop through each row of the temp column, returning only the digit values as a single integer\n",
    "#C Display the first five rows of the dataframe"
   ]
  },
  {
   "cell_type": "code",
   "execution_count": null,
   "id": "33295598-251c-4da7-8a5d-8d5cd3308425",
   "metadata": {},
   "outputs": [],
   "source": [
    "for row in forecast_data[\"wind_speed\"].head():     #A\n",
    "    print(row)\n",
    "\n",
    "#A Print the entire text of the first five rows of the wind speed column"
   ]
  },
  {
   "cell_type": "code",
   "execution_count": null,
   "id": "73b07405-f2b6-48cd-9207-ddb46c9d02a9",
   "metadata": {},
   "outputs": [],
   "source": [
    "forecast_data[\"wind_speed\"] = [    #A\n",
    "    re.findall(r\"\\d+ mph\", w) for w in forecast_data[\"wind_speed\"]\n",
    "]\n",
    "forecast_data.head()    #B\n",
    "\n",
    "#A Use the re library’s findall function to return all integers followed by a space and “mph”\n",
    "#B Display the first five rows of the dataframe"
   ]
  },
  {
   "cell_type": "code",
   "execution_count": null,
   "id": "efb2690a-4140-4349-a14c-b1f70dbf3f08",
   "metadata": {},
   "outputs": [],
   "source": [
    "forecast_data[\"wind_speed\"] = [   #A\n",
    "    int(row[0].replace(\" mph\", \"\")) if row else None \n",
    "    for row in forecast_data[\"wind_speed\"]\n",
    "]\n",
    "\n",
    "forecast = (    #B\n",
    "    forecast_data.groupby(\"date\", sort=False)\n",
    "    .agg({\"temp\": [\"min\", \"max\"], \"wind_speed\": \"max\"})\n",
    "    .reset_index()\n",
    ")\n",
    "\n",
    "forecast.columns = [\"date\", \"low_temp\", \"high_temp\", \"wind_speed\"]    #C\n",
    "forecast.head()\n",
    "\n",
    "#A Retrieve only the first list item, remove the text, and convert it to an integer\n",
    "#B Group the dataframe by date and get the low/high temperature for that 24-hour period\n",
    "#C Rename the columns and display the first five rows"
   ]
  },
  {
   "cell_type": "markdown",
   "id": "537ff010-a640-4c2c-a936-e96d21f14902",
   "metadata": {},
   "source": [
    "## 10.3.3"
   ]
  },
  {
   "cell_type": "code",
   "execution_count": null,
   "id": "4a58139d-1854-48f0-9f62-1585eb58f634",
   "metadata": {},
   "outputs": [],
   "source": [
    "from datetime import datetime, timedelta    #A\n",
    "\n",
    "now = datetime.now()    #B\n",
    "start = (now - timedelta(days=3)).strftime(\"%Y-%m-%d\")\n",
    "end = (now - timedelta(days=2)).strftime(\"%Y-%m-%d\")\n",
    "\n",
    "base = \"https://data.cityofnewyork.us/resource/erm2-nwe9.json\"    #C\n",
    "query = \"?$query=\"\n",
    "select = \"SELECT `created_date`, `unique_key` \"\n",
    "where = 'WHERE caseless_eq(`descriptor`, \"Rat Sighting\") '\n",
    "dates = f\"AND (`created_date` BETWEEN '{start}' :: floating_timestamp AND '{end}' :: floating_timestamp) \"    #D\n",
    "\n",
    "full_url = base + query + select + where + dates    #E\n",
    "\n",
    "#A Import datetime library functions\n",
    "#B Calculate the current date, one day, and two days prior as inputs for the endpoint\n",
    "#C Construct each portion of the endpoint for the NYC Open Data Portal\n",
    "#D Add the date inputs to the dates variable\n",
    "#E Construct the full URL "
   ]
  },
  {
   "cell_type": "code",
   "execution_count": null,
   "id": "81306e80-b8f2-4d41-b27c-1feb84dd9edc",
   "metadata": {},
   "outputs": [],
   "source": [
    "response = requests.get(full_url)   #A\n",
    "print(response.json())   #B\n",
    "\n",
    "#A Request 311 rat sightings data from Open Data NYC\n",
    "#B Print the JSON response"
   ]
  }
 ],
 "metadata": {
  "kernelspec": {
   "display_name": "Python 3 (ipykernel)",
   "language": "python",
   "name": "python3"
  },
  "language_info": {
   "codemirror_mode": {
    "name": "ipython",
    "version": 3
   },
   "file_extension": ".py",
   "mimetype": "text/x-python",
   "name": "python",
   "nbconvert_exporter": "python",
   "pygments_lexer": "ipython3",
   "version": "3.12.5"
  }
 },
 "nbformat": 4,
 "nbformat_minor": 5
}
