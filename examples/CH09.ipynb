{
 "cells": [
  {
   "cell_type": "markdown",
   "id": "f2736653-8b65-43f2-a46d-c511ca2b595a",
   "metadata": {},
   "source": [
    "# Chapter 9"
   ]
  },
  {
   "cell_type": "markdown",
   "id": "c06703e7-dd63-4a39-a29b-70d78193002e",
   "metadata": {},
   "source": [
    "## 9.1.2"
   ]
  },
  {
   "cell_type": "code",
   "execution_count": null,
   "id": "bf9f50d5-342c-40d0-9c3c-c423963f03ba",
   "metadata": {},
   "outputs": [],
   "source": [
    "!pip3 install --force-reinstall numpy==2.0.0"
   ]
  },
  {
   "cell_type": "code",
   "execution_count": null,
   "id": "06e6acf3-b38c-4fa3-a389-e49e2dc59f18",
   "metadata": {},
   "outputs": [],
   "source": [
    "import statsmodels.api as sm\n",
    "\n",
    "import pandas as pd\n",
    "housing_prices = pd.read_csv(\"housing_prices.csv\")    #A\n",
    "\n",
    "X = housing_prices[[\"sq_footage\", \"n_bedrooms\"]]\n",
    "y = housing_prices[\"price\"]    #B\n",
    "X = sm.add_constant(X)    #C \n",
    "\n",
    "model = sm.OLS(y, X).fit()    #D\n",
    "print(model.summary())\n",
    "\n",
    "#A Import statsmodels, pandas, and the dataframe\n",
    "#B Create an X and y variable for the predictors and outcome, respectively\n",
    "#C Add the y-intercept to the model\n",
    "#D Print the model results"
   ]
  },
  {
   "cell_type": "code",
   "execution_count": null,
   "id": "cbbca426-9086-4bf7-ae08-eb552cc16cd5",
   "metadata": {},
   "outputs": [],
   "source": [
    "import matplotlib.pyplot as plt \n",
    "\n",
    "housing_prices[\"residuals\"] = model.resid\n",
    "housing_prices[\"predicted_values\"] = model.predict()    #A\n",
    "\n",
    "plt.scatter(\n",
    "    housing_prices[\"predicted_values\"],\n",
    "    housing_prices[\"residuals\"]\n",
    ")    #B\n",
    "plt.axhline(y=0, color= \"black\", linestyle=\"-\");    #C\n",
    "\n",
    "#A Save the residuals and predicted values as new columns in the dataframe\n",
    "#B Create a scatterplot of the predicted values against the residuals\n",
    "#C Add a horizontal line at 0 to better display the residuals centered around 0"
   ]
  },
  {
   "cell_type": "code",
   "execution_count": null,
   "id": "c00000f6-77af-4eea-b0a1-db3b735e1252",
   "metadata": {},
   "outputs": [],
   "source": [
    "plt.hist(housing_prices[\"residuals\"], bins=30);    #A\n",
    "\n",
    "#A Plot a histogram of residuals from the housing prices model"
   ]
  },
  {
   "cell_type": "markdown",
   "id": "ad21deae-0f9c-4ade-b882-84f00a928840",
   "metadata": {},
   "source": [
    "# 9.2"
   ]
  },
  {
   "cell_type": "code",
   "execution_count": null,
   "id": "ccda3ac7-3025-4323-93c1-869cc0dd1556",
   "metadata": {},
   "outputs": [],
   "source": [
    "rats = pd.read_csv(\"rat_sightings.csv\")    #A\n",
    "weather = pd.read_csv(\"weather.csv\")\n",
    "\n",
    "rats_weather = pd.merge(\n",
    "    weather, \n",
    "    rats, \n",
    "    on=\"day\", \n",
    "    how=\"left\"\n",
    ").fillna(0)  #B\n",
    "\n",
    "rats_weather[\"day\"] = pd.to_datetime(\n",
    "    rats_weather[\"day\"], \n",
    "    format=\"%m/%d/%y\"\n",
    ")    #C\n",
    "\n",
    "rats_weather.corr().round(2)    #D\n",
    "\n",
    "#A Import the rats and weather dataframes \n",
    "#B Merge the dataframes and fill in missing values\n",
    "#C Convert the day field to a datetime \n",
    "#D Generate correlations"
   ]
  },
  {
   "cell_type": "code",
   "execution_count": null,
   "id": "23b89a8a-57d9-41a4-8850-39e95247cad2",
   "metadata": {},
   "outputs": [],
   "source": [
    "rats_weather[\"dow\"] = rats_weather[\"day\"].dt.dayofweek    #A\n",
    "rats_weather[\"month_num\"] = rats_weather[\"day\"].dt.month    #B\n",
    "rats_weather.head()    #C\n",
    "\n",
    "#A Add a column with the day of the week number (from 0 to 6) starting with Monday\n",
    "#B Add a column with the month number (from 1 through 12) in a calendar year \n",
    "#C Display the first 5 rows of the dataset"
   ]
  },
  {
   "cell_type": "code",
   "execution_count": null,
   "id": "f7f08861-7817-4158-a631-0088e1ed5563",
   "metadata": {},
   "outputs": [],
   "source": [
    "import seaborn as sns    #A\n",
    "sns.boxplot(data=rats_weather, x=\"month_num\", y=\"rat_sightings\");    #B\n",
    "\n",
    "#A Import seaborn library\n",
    "#B Create boxplots to visualize the distributions of rat sightings by month number"
   ]
  },
  {
   "cell_type": "code",
   "execution_count": null,
   "id": "89446ffb-86e1-4d55-ae98-225e304b89d2",
   "metadata": {},
   "outputs": [],
   "source": [
    "sns.boxplot(data=rats_weather, x=\"dow\", y=\"rat_sightings\");    #A\n",
    "\n",
    "#A Create boxplots to visualize the distributions of rat sightings by month number"
   ]
  },
  {
   "cell_type": "code",
   "execution_count": null,
   "id": "7383d4c2-9815-4227-85a5-697624e32a81",
   "metadata": {},
   "outputs": [],
   "source": [
    "rats_weather[\"weekday\"] = (rats_weather[\"dow\"]<5).astype(int)    #A\n",
    "rats_weather[\n",
    "    [\"high_temp\", \"wind_speed\", \"weekday\", \"rat_sightings\"]\n",
    "].corr().round(2)    #B\n",
    "\n",
    "#A Convert the day of the week into a binary weekday column\n",
    "#B Recalculate correlations with the new dummy variable"
   ]
  },
  {
   "cell_type": "code",
   "execution_count": null,
   "id": "1e97bfdf-c084-48d7-b4ae-24e5938cf763",
   "metadata": {},
   "outputs": [],
   "source": [
    "sns.pairplot(\n",
    "    rats_weather[[\"high_temp\", \"wind_speed\", \"weekday\", \"rat_sightings\"]]\n",
    ");  # A\n",
    "\n",
    "#A Generate a pairplot of all relevant variables in the dataframe"
   ]
  },
  {
   "cell_type": "code",
   "execution_count": null,
   "id": "daadc5d7-08a1-415d-8676-e192ccca2e33",
   "metadata": {},
   "outputs": [],
   "source": [
    "import numpy as np    #A\n",
    "\n",
    "rats_weather[\"wind_speed_sq\"] = rats_weather[\"wind_speed\"]**2\n",
    "rats_weather[\"wind_speed_sqrt\"] = np.sqrt(rats_weather[\"wind_speed\"])    #B\n",
    "\n",
    "rats_weather[\n",
    "    [\"wind_speed_sq\", \"wind_speed_sqrt\", \"wind_speed\", \"rat_sightings\"]\n",
    "].corr().round(2)   #C\n",
    "\n",
    "#A Import the numpy library\n",
    "#B Create new columns with the square and square root of the wind speed column \n",
    "#C Compare Pearson's correlations"
   ]
  },
  {
   "cell_type": "markdown",
   "id": "537ff010-a640-4c2c-a936-e96d21f14902",
   "metadata": {},
   "source": [
    "## 9.2.2"
   ]
  },
  {
   "cell_type": "code",
   "execution_count": null,
   "id": "137dd885-7850-414a-971d-059b3ded941b",
   "metadata": {},
   "outputs": [],
   "source": [
    "X = rats_weather[[\"high_temp\", \"wind_speed\", \"weekday\"]]\n",
    "y = rats_weather[\"rat_sightings\"]    #A\n",
    "\n",
    "X = sm.add_constant(X)    #B\n",
    "\n",
    "model = sm.OLS(y, X).fit()    #C\n",
    "print(model.summary()) \n",
    "\n",
    "#A Create an X and y variable for the predictors and outcome, respectively\n",
    "#B Add a constant to represent the y-intercept\n",
    "#C Print the model results"
   ]
  },
  {
   "cell_type": "code",
   "execution_count": null,
   "id": "44ccd419-995e-44d2-a9d9-51933fb6dd47",
   "metadata": {},
   "outputs": [],
   "source": [
    "rats_weather[\"residuals\"] = model.resid\n",
    "rats_weather[\"predicted_values\"] = model.predict()    #A\n",
    "\n",
    "plt.scatter(\n",
    "    rats_weather[\"predicted_values\"],\n",
    "    rats_weather[\"residuals\"], color=\"gray\", s=5\n",
    ")    #B\n",
    "plt.axhline(y=0, color=\"black\", linestyle=\"-\");    #C\n",
    "\n",
    "#A Save the residuals and predicted values as new columns in rats_weather\n",
    "#B Create a scatterplot of the predicted values against the residuals\n",
    "#C Add a horizontal line at 0 to display the residuals centered around 0"
   ]
  },
  {
   "cell_type": "code",
   "execution_count": null,
   "id": "ff1b4145-8da3-406d-b93a-dd52856a36eb",
   "metadata": {},
   "outputs": [],
   "source": [
    "rats_weather[rats_weather[\"predicted_values\"]<10]    #A\n",
    "\n",
    "#A Filter the dataset to display only records with low predicted values"
   ]
  },
  {
   "cell_type": "code",
   "execution_count": null,
   "id": "0c6e85e2-1d91-4c05-9280-0ce4b6bdf4e7",
   "metadata": {},
   "outputs": [],
   "source": [
    "rats_weather = rats_weather[rats_weather[\"high_temp\"]!=0]    #A\n",
    "\n",
    "#A Remove the row with incorrect weather data"
   ]
  },
  {
   "cell_type": "code",
   "execution_count": null,
   "id": "a02e9414-bfd9-48a4-86b6-4627c91bebf2",
   "metadata": {},
   "outputs": [],
   "source": [
    "X = rats_weather[[\"high_temp\", \"wind_speed\", \"weekday\"]]\n",
    "y = np.sqrt(rats_weather[\"rat_sightings\"])    #A\n",
    "X = sm.add_constant(X)\n",
    "\n",
    "model = sm.OLS(y, X).fit()\n",
    "print(model.summary())    #B\n",
    "\n",
    "#A Take the square root of the number of rat sightings as the new y-variable\n",
    "#B Fit the model again and show the results"
   ]
  },
  {
   "cell_type": "markdown",
   "id": "8a665319-b813-414e-86a5-469f55a9c0ae",
   "metadata": {},
   "source": [
    "# 9.3"
   ]
  },
  {
   "cell_type": "code",
   "execution_count": null,
   "id": "13899859-23bd-46e3-a383-d46baf1657ec",
   "metadata": {},
   "outputs": [],
   "source": [
    "rats_weather[\"high_precip\"] = (\n",
    "rats_weather[\"precip\"] > 0.1\n",
    ").astype(int)    #A\n",
    "\n",
    "rats_weather[\n",
    "    [\"high_temp\", \"wind_speed\", \"weekday\", \"high_precip\", \"rat_sightings\"]\n",
    "].corr().round(2)    #B\n",
    "\n",
    "#A Create a Boolean column indicating whether precipitation is higher than 0.1 inches\n",
    "#B Re-examine correlations"
   ]
  },
  {
   "cell_type": "code",
   "execution_count": null,
   "id": "f09f997d-0e86-49e3-b993-e6ccddace63d",
   "metadata": {},
   "outputs": [],
   "source": [
    "from sklearn.model_selection import train_test_split\n",
    "from sklearn.metrics import mean_squared_error\n",
    "from sklearn.linear_model import LinearRegression    #A\n",
    "\n",
    "X = rats_weather[[\"high_temp\", \"wind_speed\", \"weekday\"]]\n",
    "y = np.sqrt(rats_weather[\"rat_sightings\"])    #B\n",
    "\n",
    "X_train, X_test, y_train, y_test = train_test_split(\n",
    "    X, y, test_size=0.2, random_state=99\n",
    ")    #C\n",
    "\n",
    "model = LinearRegression()\n",
    "model.fit(X_train, y_train)    #D\n",
    "\n",
    "#A Import libraries\n",
    "#B Split the data into its X and y variables\n",
    "#C Randomly split the X and y data into a training and test set, with 80% of data for training\n",
    "#D Fit the linear regression model to the training data"
   ]
  },
  {
   "cell_type": "code",
   "execution_count": null,
   "id": "d1d353b6-3bfb-4f1d-9c7a-07642bcaf3d7",
   "metadata": {},
   "outputs": [],
   "source": [
    "from sklearn.metrics import mean_squared_error    #A\n",
    "\n",
    "y_pred_train = model.predict(X_train)\n",
    "y_pred = model.predict(X_test)    #B\n",
    "\n",
    "r2_train = model.score(X_train, y_train) \n",
    "r2_test = model.score(X_test, y_test)    #C\n",
    "\n",
    "rmse_train = np.sqrt(mean_squared_error(y_train, y_pred_train))\n",
    "rmse_test = np.sqrt(mean_squared_error(y_test, y_pred))    #D\n",
    "\n",
    "print(f\"Training Set RMSE: {rmse_train}\")\n",
    "print(f\"Test Set RMSE: {rmse_test}\")\n",
    "print(f\"Training Set R-squared: {r2_train}\")\n",
    "print(f\"Test Set R-squared: {r2_test}\")\n",
    "\n",
    "#A Import mean squared error evaluation metric\n",
    "#B Generate rat sighting predictions based on the X training and test set inputs\n",
    "#C Calculate the R2 value for both the training and the test set\n",
    "#D Calculate the mean squared error (MSE) and root mean squared error (RMSE) for the predictions"
   ]
  }
 ],
 "metadata": {
  "kernelspec": {
   "display_name": "Python 3 (ipykernel)",
   "language": "python",
   "name": "python3"
  },
  "language_info": {
   "codemirror_mode": {
    "name": "ipython",
    "version": 3
   },
   "file_extension": ".py",
   "mimetype": "text/x-python",
   "name": "python",
   "nbconvert_exporter": "python",
   "pygments_lexer": "ipython3",
   "version": "3.12.5"
  }
 },
 "nbformat": 4,
 "nbformat_minor": 5
}
