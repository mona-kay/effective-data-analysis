{
 "cells": [
  {
   "cell_type": "markdown",
   "id": "f2736653-8b65-43f2-a46d-c511ca2b595a",
   "metadata": {},
   "source": [
    "# Chapter 6"
   ]
  },
  {
   "cell_type": "markdown",
   "id": "c06703e7-dd63-4a39-a29b-70d78193002e",
   "metadata": {},
   "source": [
    "## 6.3.1"
   ]
  },
  {
   "cell_type": "code",
   "execution_count": null,
   "id": "feee56c2-43da-47f8-8bb5-0bd4f490d11d",
   "metadata": {},
   "outputs": [],
   "source": [
    "import pandas as pd    #A\n",
    "import numpy as np\n",
    "\n",
    "weather = pd.read_csv(\"weather.csv\")    #B\n",
    "weather_corr = weather.select_dtypes(include='number').corr()    #C\n",
    "print(weather_corr)\n",
    "\n",
    "#A Import libraries\n",
    "#B Import weather data as a dataframe\n",
    "#C Calculate correlations between numeric variables"
   ]
  },
  {
   "cell_type": "code",
   "execution_count": null,
   "id": "c720ed68-9d15-4f0a-8a9c-bf3c7692fbfd",
   "metadata": {},
   "outputs": [],
   "source": [
    "!pip3 install pingouin"
   ]
  },
  {
   "cell_type": "code",
   "execution_count": null,
   "id": "a85640da-729f-42a5-b999-746b65bc665e",
   "metadata": {},
   "outputs": [],
   "source": [
    "import pingouin as pg    #A\n",
    "\n",
    "cr_alpha = pg.cronbach_alpha(data=weather.drop('day', axis=1))    #B\n",
    "print(cr_alpha)    #C\n",
    "\n",
    "#A Import pingouin library\n",
    "#B Calculate the Cronbach’s alpha\n",
    "#C Print the value and its 95% confidence interval   "
   ]
  }
 ],
 "metadata": {
  "kernelspec": {
   "display_name": "Python 3 (ipykernel)",
   "language": "python",
   "name": "python3"
  },
  "language_info": {
   "codemirror_mode": {
    "name": "ipython",
    "version": 3
   },
   "file_extension": ".py",
   "mimetype": "text/x-python",
   "name": "python",
   "nbconvert_exporter": "python",
   "pygments_lexer": "ipython3",
   "version": "3.12.5"
  }
 },
 "nbformat": 4,
 "nbformat_minor": 5
}
