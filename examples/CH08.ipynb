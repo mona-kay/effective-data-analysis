{
 "cells": [
  {
   "cell_type": "markdown",
   "id": "f2736653-8b65-43f2-a46d-c511ca2b595a",
   "metadata": {},
   "source": [
    "# Chapter 8"
   ]
  },
  {
   "cell_type": "markdown",
   "id": "c06703e7-dd63-4a39-a29b-70d78193002e",
   "metadata": {},
   "source": [
    "## 8.3.2"
   ]
  },
  {
   "cell_type": "code",
   "execution_count": null,
   "id": "3ddc596e-24f3-4bfa-ada0-47d3263f1d3f",
   "metadata": {},
   "outputs": [],
   "source": [
    "import pandas as pd   #A\n",
    "\n",
    "transactions = pd.read_csv(\"transactions.csv\")    #B\n",
    "transactions.head()\n",
    "\n",
    "#A Import the pandas library\n",
    "#B Import the transactions dataset and display the first 5 rows\n"
   ]
  },
  {
   "cell_type": "code",
   "execution_count": null,
   "id": "04c2d7ae-62d7-4a50-8102-eab4f8daabef",
   "metadata": {},
   "outputs": [],
   "source": [
    "!pip3 install usaddress\n",
    "#A Install usaddress library"
   ]
  },
  {
   "cell_type": "code",
   "execution_count": null,
   "id": "624be31c-cd4a-4db2-bc18-ee81a498b3a8",
   "metadata": {},
   "outputs": [],
   "source": [
    "import usaddress    #A\n",
    "\n",
    "def parse_addresses(address):    #B\n",
    "    try:    #C\n",
    "        parsed = usaddress.parse(address)\n",
    "        parsed_dict = {item[1]: item[0] for item in parsed}\n",
    "        city = parsed_dict.get(\"PlaceName\", \"\")    #D\n",
    "        state = parsed_dict.get(\"StateName\", \"\")\n",
    "        zip_code = parsed_dict.get(\"ZipCode\", \"\")\n",
    "        return city, state, zip_code\n",
    "    except:\n",
    "        return \"\", \"\", \"\" #E\n",
    "\n",
    "transactions[\"city\"], transactions[\"state\"], transactions[\"zip_code\"] = zip(\n",
    "    *transactions[\"address\"].apply(parse_addresses)\n",
    ")    #F\n",
    "\n",
    "transactions.head()    #G\n",
    "\n",
    "#A Import usaddress library\n",
    "#B Create a function to parse the address column\n",
    "#C Add error handling in case addresses cannot be parsed (a common issue)\n",
    "#D Extract individual geographical data points of interest from the parsed dictionary\n",
    "#E If an address cannot be parsed, return an empty string\n",
    "#F Create 3 new columns with city, state, and zip code by applying the function to the address\n",
    "#G Display the first 5 rows"
   ]
  },
  {
   "cell_type": "code",
   "execution_count": null,
   "id": "6d30dace-4663-497a-841c-b6b196305c65",
   "metadata": {},
   "outputs": [],
   "source": [
    "transactions.drop([\"address\", \"name\", \"phone\"], axis=1, inplace=True)    #A\n",
    "#A Drop the address, name, and phone number columns"
   ]
  },
  {
   "cell_type": "code",
   "execution_count": null,
   "id": "d0c2ce0e-a8e7-45f9-a35d-99da096a0a56",
   "metadata": {},
   "outputs": [],
   "source": [
    "import hashlib    #A\n",
    "\n",
    "def hash_email(email):    #B\n",
    "    return hashlib.sha256(email.encode()).hexdigest()\n",
    "\n",
    "transactions[\"email_hash\"] = transactions[\"email\"].apply(hash_email)    #C\n",
    "\n",
    "transactions.head()    #D\n",
    "#A Import the hashlib library\n",
    "#B Write a function to hash the email column's values \n",
    "#C Apply the function to a new column\n",
    "#D Display the first 5 rows"
   ]
  },
  {
   "cell_type": "code",
   "execution_count": null,
   "id": "299b85c2-3638-4e3c-864a-0e2c6a3272f1",
   "metadata": {},
   "outputs": [],
   "source": [
    "emails = transactions[[\"email\", \"email_hash\"]]    #A\n",
    "transactions.drop([\"email\"], axis=1, inplace=True)    #B\n",
    "transactions.head()    #C\n",
    "\n",
    "#A Save the email and its hash in a separate dataframe\n",
    "#B Drop the email column from transactions\n",
    "#C Display the first 5 rows of transactions"
   ]
  },
  {
   "cell_type": "code",
   "execution_count": null,
   "id": "dcf2172f-5a98-4f13-adb4-eb5d009db320",
   "metadata": {},
   "outputs": [],
   "source": []
  }
 ],
 "metadata": {
  "kernelspec": {
   "display_name": "Python 3 (ipykernel)",
   "language": "python",
   "name": "python3"
  },
  "language_info": {
   "codemirror_mode": {
    "name": "ipython",
    "version": 3
   },
   "file_extension": ".py",
   "mimetype": "text/x-python",
   "name": "python",
   "nbconvert_exporter": "python",
   "pygments_lexer": "ipython3",
   "version": "3.12.5"
  }
 },
 "nbformat": 4,
 "nbformat_minor": 5
}
