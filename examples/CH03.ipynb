{
 "cells": [
  {
   "cell_type": "markdown",
   "id": "b4502d56-0e56-4497-b8c2-bb6330b23cd1",
   "metadata": {},
   "source": [
    "# Chapter 3"
   ]
  },
  {
   "cell_type": "markdown",
   "id": "e0c5e3b8-65c3-4f1b-ae96-2ea130b6573f",
   "metadata": {},
   "source": [
    "## 3.1.2"
   ]
  },
  {
   "cell_type": "code",
   "execution_count": null,
   "id": "fbe30b88-49c1-46e0-9fc0-4d1b51978b82",
   "metadata": {},
   "outputs": [],
   "source": [
    "import numpy as np  # A\n",
    "import matplotlib.pyplot as plt\n",
    "\n",
    "c = np.random.normal(0, 1, size=500)  # B\n",
    "t = np.random.normal(2, 1, size=500)\n",
    "\n",
    "plt.hist(c, alpha=0.5, bins=25, color=\"black\")  # C\n",
    "plt.hist(t, alpha=0.5, bins=25, color=\"lightgray\")\n",
    "plt.legend([\"Control\", \"Treatment\"]);\n",
    "\n",
    "#A Import libraries\n",
    "#B Create two distributions 2 standard deviations apart\n",
    "#C Visualize the distributions"
   ]
  },
  {
   "cell_type": "markdown",
   "id": "f8117d3e-9912-4029-8923-1f46d30e2e51",
   "metadata": {},
   "source": [
    "## 3.2.1"
   ]
  },
  {
   "cell_type": "code",
   "execution_count": null,
   "id": "b611f207-eb0e-49a5-a164-b42f977a7405",
   "metadata": {},
   "outputs": [],
   "source": [
    "import pandas as pd  #A\n",
    "import matplotlib.pyplot as plt\n",
    "\n",
    "rats = pd.read_csv(\"rat_sightings.csv\", index_col=0)  #B\n",
    "\n",
    "plt.plot(rats[\"rat_sightings\"])  #C\n",
    "plt.xlabel(\"Day (Starting 1/1/2018)\")\n",
    "plt.ylabel(\"# of Rat Sightings\");\n",
    "\n",
    "#A Import libraries\n",
    "#B Import the csv as a pandas dataframe\n",
    "#C Plot line graph"
   ]
  },
  {
   "cell_type": "code",
   "execution_count": null,
   "id": "9dd3bbbe-08fe-4eb6-83e0-07a27512a7e8",
   "metadata": {},
   "outputs": [],
   "source": [
    "rats = rats.reset_index()\n",
    "rats[\"day\"] = pd.to_datetime(rats[\"day\"], format=\"%m/%d/%y\")  #A\n",
    "\n",
    "rats_group = rats.groupby(pd.Grouper(key=\"day\", axis=0, freq=\"ME\")).agg(\n",
    "    [\"sum\", \"mean\", \"median\"]\n",
    ")  #B\n",
    "\n",
    "rats_group.columns = rats_group.columns.get_level_values(1)  #C\n",
    "\n",
    "plt.plot(rats_group[\"sum\"])  #D\n",
    "plt.xlabel(\"Month (Starting 1/1/2018)\")\n",
    "plt.ylabel(\"# of Rat Sightings\");\n",
    "\n",
    "#A Convert the column to a date format\n",
    "#B Aggregate the dataset by month\n",
    "#C Reset the column names\n",
    "#D Plot the line graph"
   ]
  },
  {
   "cell_type": "code",
   "execution_count": null,
   "id": "0af8f1e4-97b8-4c1a-bbfb-d19ee42e942c",
   "metadata": {},
   "outputs": [],
   "source": [
    "plt.plot(rats_group[\"mean\"], marker=\"o\")  #A\n",
    "plt.plot(rats_group[\"median\"], marker=\"x\")  #B\n",
    "plt.legend([\"Mean\", \"Median\"]);  #C\n",
    "\n",
    "#A Plot the mean as a line graph\n",
    "#B Plot the median as an overlapping line graph\n",
    "#C Add a legend and labels"
   ]
  },
  {
   "cell_type": "markdown",
   "id": "0052a155-ea1a-4cf2-b141-08e260f249c8",
   "metadata": {},
   "source": [
    "## 3.2.2"
   ]
  },
  {
   "cell_type": "code",
   "execution_count": null,
   "id": "ed7a6d5c-b893-498d-98eb-459b33e296b9",
   "metadata": {},
   "outputs": [],
   "source": [
    "weather = pd.read_csv(\"weather.csv\", index_col=0)  #A\n",
    "weather = weather.reset_index()\n",
    "weather[\"day\"] = pd.to_datetime(weather[\"day\"], format=\"%m/%d/%y\")\n",
    "\n",
    "rats_weather = pd.merge(weather, rats_subset, how=\"left\", on=\"day\").fillna(0)  #B\n",
    "\n",
    "corrs = rats_weather.corr()  #C\n",
    "corrs.style.background_gradient(cmap=\"RdBu\", vmin=-1)\n",
    "#A Import the dataset and convert the day column to a datetime\n",
    "#B Join the weather and rats datasets\n",
    "#C Generate a correlation matrix and add color"
   ]
  },
  {
   "cell_type": "code",
   "execution_count": null,
   "id": "f534234f-d03c-4b98-9490-b9b18b6eace6",
   "metadata": {},
   "outputs": [],
   "source": [
    "import seaborn as sns  #A\n",
    "\n",
    "sns.regplot(  #B\n",
    "    x=\"low_temp\",\n",
    "    y=\"rat_sightings\",\n",
    "    data=rats_weather,\n",
    "    marker=\"+\",\n",
    ")\n",
    "plt.xlabel(\"Daily Low Temp\")  #C\n",
    "plt.ylabel(\"Daily Rat Sightings\");\n",
    "\n",
    "#A Import seaborn for more advanced visualizations\n",
    "#B Generate a scatterplot with a regression line \n",
    "#C Add x and y axis labels"
   ]
  }
 ],
 "metadata": {
  "kernelspec": {
   "display_name": "Python 3 (ipykernel)",
   "language": "python",
   "name": "python3"
  },
  "language_info": {
   "codemirror_mode": {
    "name": "ipython",
    "version": 3
   },
   "file_extension": ".py",
   "mimetype": "text/x-python",
   "name": "python",
   "nbconvert_exporter": "python",
   "pygments_lexer": "ipython3",
   "version": "3.12.5"
  }
 },
 "nbformat": 4,
 "nbformat_minor": 5
}
