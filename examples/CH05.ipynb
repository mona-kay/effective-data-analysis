{
 "cells": [
  {
   "cell_type": "markdown",
   "id": "f2736653-8b65-43f2-a46d-c511ca2b595a",
   "metadata": {},
   "source": [
    "# Chapter 5"
   ]
  },
  {
   "cell_type": "markdown",
   "id": "c06703e7-dd63-4a39-a29b-70d78193002e",
   "metadata": {},
   "source": [
    "## 5.2.1"
   ]
  },
  {
   "cell_type": "code",
   "execution_count": null,
   "id": "0576ea35-944d-49ba-b70e-16d42ffb707e",
   "metadata": {},
   "outputs": [],
   "source": [
    "import numpy as np    #A\n",
    "from scipy.stats import skewnorm, kruskal, mannwhitneyu\n",
    "\n",
    "np.random.seed(99)    #B\n",
    "\n",
    "group_a = skewnorm.rvs(a=9, scale=2.2, size=99) + 4.5    #C\n",
    "group_b = skewnorm.rvs(a=11, scale=1, size=99) + 4.6\n",
    "\n",
    "H = kruskal(group_a, group_b)    #D\n",
    "U = mannwhitneyu(group_a, group_b)\n",
    "\n",
    "print(f\"Kruskal-Wallis Test, H={H[0]}, p={H[1]}\")   #E\n",
    "print(f\"Mann-Whitney U-test, U={U[0]}, p={U[1]}\")\n",
    "\n",
    "\n",
    "#A Import libraries\n",
    "#B Set random seed for reproducible results\n",
    "#C Generate two skewed distributions\n",
    "#D Run a Kruskal-Wallis and Mann-Whitney U-test\n",
    "#E Print the results"
   ]
  },
  {
   "cell_type": "code",
   "execution_count": null,
   "id": "de75a137-c293-4f98-8db4-9b79fd586b57",
   "metadata": {},
   "outputs": [],
   "source": [
    "!pip3 install scikit_posthocs"
   ]
  },
  {
   "cell_type": "code",
   "execution_count": null,
   "id": "ebdd34af-1eae-40f4-8fd3-93595c057557",
   "metadata": {},
   "outputs": [],
   "source": [
    "import numpy as np  # A\n",
    "from scipy import stats as st\n",
    "import scikit_posthocs as sp\n",
    "\n",
    "np.random.seed(99)    #B\n",
    "\n",
    "group_a = st.skewnorm.rvs(a=9, scale=2.2, size=99) + 4.6  # B\n",
    "group_b = st.skewnorm.rvs(a=11, scale=1.5, size=99) + 4.6\n",
    "group_c = st.skewnorm.rvs(a=9.1, scale=2.0, size=99) + 4.6\n",
    "\n",
    "data = [group_a, group_b, group_c]\n",
    "H = st.kruskal(group_a, group_b)  # C\n",
    "post_hoc = sp.posthoc_dunn(data, p_adjust=\"bonferroni\")\n",
    "\n",
    "print(f\"Kruskal-Wallis Test, H={H[0]}, p={H[1]}\")  # D\n",
    "print(post_hoc)\n",
    "\n",
    "#A Import libraries\n",
    "#B Set random seed for reproducible results\n",
    "#C Generate three non-normal series of data\n",
    "#D Perform a Kruskal-Wallis test and a Dunn test as a post-hoc\n",
    "#E Print the results"
   ]
  },
  {
   "cell_type": "markdown",
   "id": "68119a9f-346b-4586-a902-2dca89ecb338",
   "metadata": {},
   "source": [
    "## 5.2.2"
   ]
  },
  {
   "cell_type": "code",
   "execution_count": null,
   "id": "212de694-3b42-4ec7-9dd5-65d0a1ffc4af",
   "metadata": {},
   "outputs": [],
   "source": [
    "import pandas as pd\n",
    "import scipy.stats as st    #A\n",
    "\n",
    "assignments = pd.read_csv(\"assignments.csv\", index_col=\"recommender\")    #B\n",
    "\n",
    "chi_sq = st.chi2_contingency(assignments)    #C\n",
    "\n",
    "print(f\"Chi-square value: {chi_sq[0].round(3)}\")    #D\n",
    "print(f\"p-value: {chi_sq[1].round(3)}\")\n",
    "print(f\"Expected Frequencies:\\n {chi_sq[3].round(2)}\")\n",
    "\n",
    "#A Import the pandas and the stats library from scipy\n",
    "#B Import the recommender group assignments crosstab \n",
    "#C Conduct the chi-square test\n",
    "#D Print results"
   ]
  },
  {
   "cell_type": "code",
   "execution_count": null,
   "id": "636c6224-96a9-4e31-b108-3ff5b4fbb769",
   "metadata": {},
   "outputs": [],
   "source": [
    "expected = assignments * .2596    #A\n",
    "print(expected.round(2))    #B\n",
    "\n",
    "#A Calculate expected frequencies based on the total proportion\n",
    "#B Show expected proportions"
   ]
  },
  {
   "cell_type": "code",
   "execution_count": null,
   "id": "e54a28a1-1420-4e08-942a-43c8ce65f3f7",
   "metadata": {},
   "outputs": [],
   "source": [
    "clicked = pd.read_csv(\"clicked.csv\", index_col=\"recommender\")    #A\n",
    "\n",
    "chi_sq = st.chi2_contingency(clicked, expected)    #B\n",
    "\n",
    "print(f\"Chi-square value: {chi_sq[0].round(3)}\")    #C\n",
    "print(f\"p-value: {chi_sq[1].round(3)}\")\n",
    "\n",
    "#A Import the crosstab of clicks by country and recommender\n",
    "#B Calculate a chi-square test \n",
    "#C Print resulting test statistic and p-value"
   ]
  },
  {
   "cell_type": "code",
   "execution_count": null,
   "id": "5029c061-3a46-4203-a99c-9e3ff836ade9",
   "metadata": {},
   "outputs": [],
   "source": [
    "import seaborn as sns    #A\n",
    "from operator import sub\n",
    "\n",
    "diffs = list(map(sub, clicked.values, expected.values))    #B\n",
    "diffs = pd.DataFrame(\n",
    "    diffs,\n",
    "    columns=assignments.columns,\n",
    "    index=assignments.index,\n",
    ")\n",
    "sns.heatmap(  # C\n",
    "    diffs.iloc[:-1, :-1],\n",
    "    cmap=\"vlag\",\n",
    "    annot=True,\n",
    "    cbar=False,\n",
    ") \n",
    "plt.xlabel(\"\")\n",
    "plt.ylabel(\"Recommender Version\")\n",
    "\n",
    "#A Import Seaborn and the subtraction operator\n",
    "#B Subtract corresponding values between each item in the observed and expected frequencies\n",
    "#C Convert the differences to a heatmap for a more presentable display"
   ]
  },
  {
   "cell_type": "code",
   "execution_count": null,
   "id": "39c15c0c-f8bb-450d-b9a1-a82474ccd206",
   "metadata": {},
   "outputs": [],
   "source": [
    "clicked.T"
   ]
  },
  {
   "cell_type": "code",
   "execution_count": null,
   "id": "40f0488e-8aac-4791-9b9f-000f0869c316",
   "metadata": {},
   "outputs": [],
   "source": [
    "from itertools import combinations  # A\n",
    "\n",
    "pairs = list(combinations(assignments.iloc[:-1, :-1].index, 2))  # B\n",
    "chisq_values = []\n",
    "p_values = []\n",
    "\n",
    "for p in pairs:  # C\n",
    "    c = clicked[(clicked.index == p[0]) | (clicked.index == p[1])]\n",
    "    chi2, pv, dof, exp = st.chi2_contingency(c, correction=True)\n",
    "    chisq_values.append(chi2)\n",
    "    p_values.append(pv)\n",
    "    print(p, \", Chi-square =\", chi2.round(3), \", p =\", pv.round(3))    #D\n",
    "\n",
    "#A Import combinations function\n",
    "#B Generate pairs of experiment groups and empty lists\n",
    "#C Conduct a chi-square test with a correction for each pairwise comparison of experiment groups\n",
    "#D Print each pair and its corresponding p-value"
   ]
  },
  {
   "cell_type": "markdown",
   "id": "8e5fdd67-93df-4224-b964-3f6b0c68e495",
   "metadata": {},
   "source": [
    "## 5.3"
   ]
  },
  {
   "cell_type": "code",
   "execution_count": null,
   "id": "29731868-aa1a-4edd-bade-ca42619036c6",
   "metadata": {},
   "outputs": [],
   "source": [
    "import numpy as np    #A\n",
    "from scipy import stats as st\n",
    "import matplotlib.pyplot as plt\n",
    "\n",
    "np.random.seed(99)    #B\n",
    "\n",
    "X1 = np.random.normal(loc=75.5, scale=6.2, size=500)    #C\n",
    "X2 = np.random.normal(loc=76.2, scale=6.5, size=500)\n",
    "\n",
    "def t_stat(X1, X2):    #D\n",
    "    return st.ttest_ind(X1, X2)[0]\n",
    "\n",
    "t_values = st.bootstrap(    #E\n",
    "    (X1, X2),\n",
    "    t_stat,\n",
    "    n_resamples=1000,\n",
    "    batch=50,\n",
    "    method=\"basic\",\n",
    "    vectorized=False,\n",
    "    random_state=99,\n",
    ")\n",
    "\n",
    "t_crit = -st.t.ppf(q=0.95, df=49)  # E\n",
    "\n",
    "plt.hist(result.bootstrap_distribution, bins=25)  # F\n",
    "plt.axvline(t_crit, color=\"black\", linestyle=\"dashed\")\n",
    "\n",
    "#A Import libraries\n",
    "#B Generate two normal distributions for independent t-test comparisons\n",
    "#C Create a function to return only the t-value from a an independent samples t-test\n",
    "#D Calculate bootstrapped t-values with 1000 samples of n=50\n",
    "#E Calculate the (negative) t-critical value \n",
    "#F Plot the distribution with the critical value as a vertical line"
   ]
  }
 ],
 "metadata": {
  "kernelspec": {
   "display_name": "Python 3 (ipykernel)",
   "language": "python",
   "name": "python3"
  },
  "language_info": {
   "codemirror_mode": {
    "name": "ipython",
    "version": 3
   },
   "file_extension": ".py",
   "mimetype": "text/x-python",
   "name": "python",
   "nbconvert_exporter": "python",
   "pygments_lexer": "ipython3",
   "version": "3.12.5"
  }
 },
 "nbformat": 4,
 "nbformat_minor": 5
}
