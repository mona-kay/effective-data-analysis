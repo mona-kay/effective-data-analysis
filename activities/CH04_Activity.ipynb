{
 "cells": [
  {
   "cell_type": "markdown",
   "id": "d1f6d79d-07f1-4d35-bb98-c24f45f6657e",
   "metadata": {},
   "source": [
    "# Chapter 4"
   ]
  },
  {
   "cell_type": "markdown",
   "id": "56e470a3-29ad-43d5-8fe4-b70fc9e7ecac",
   "metadata": {},
   "source": [
    "## 4.1.3"
   ]
  },
  {
   "cell_type": "code",
   "execution_count": 2,
   "id": "cd3a0cbf-feb6-400a-80a7-40651c95f3c9",
   "metadata": {},
   "outputs": [
    {
     "data": {
      "image/png": "[encoded data removed]",
      "text/plain": [
       "<Figure size 640x480 with 1 Axes>"
      ]
     },
     "metadata": {},
     "output_type": "display_data"
    }
   ],
   "source": [
    "import numpy as np\n",
    "import matplotlib.pyplot as plt\n",
    "import pandas as pd\n",
    "\n",
    "dist = pd.Series(np.sqrt(np.random.exponential(1,75000)))\n",
    "plt.hist(dist, bins = 100);"
   ]
  },
  {
   "cell_type": "markdown",
   "id": "e44a6b39-e5e9-4ad1-a086-cccbffc1c58a",
   "metadata": {},
   "source": [
    "## 4.2.2"
   ]
  },
  {
   "cell_type": "code",
   "execution_count": 3,
   "id": "0a68a95a-1e44-40f7-9a9c-8ada67095203",
   "metadata": {},
   "outputs": [
    {
     "name": "stdout",
     "output_type": "stream",
     "text": [
      "63.76561058785405\n"
     ]
    },
    {
     "name": "stderr",
     "output_type": "stream",
     "text": [
      "/Library/Frameworks/Python.framework/Versions/3.10/lib/python3.10/site-packages/scipy/stats/_continuous_distns.py:6832: RuntimeWarning: invalid value encountered in _nct_sf\n",
      "  return np.clip(_boost._nct_sf(x, df, nc), 0, 1)\n",
      "/Library/Frameworks/Python.framework/Versions/3.10/lib/python3.10/site-packages/scipy/stats/_continuous_distns.py:6826: RuntimeWarning: invalid value encountered in _nct_cdf\n",
      "  return np.clip(_boost._nct_cdf(x, df, nc), 0, 1)\n",
      "/Library/Frameworks/Python.framework/Versions/3.10/lib/python3.10/site-packages/scipy/stats/_continuous_distns.py:6832: RuntimeWarning: overflow encountered in _nct_sf\n",
      "  return np.clip(_boost._nct_sf(x, df, nc), 0, 1)\n",
      "/Library/Frameworks/Python.framework/Versions/3.10/lib/python3.10/site-packages/scipy/stats/_continuous_distns.py:6826: RuntimeWarning: overflow encountered in _nct_cdf\n",
      "  return np.clip(_boost._nct_cdf(x, df, nc), 0, 1)\n"
     ]
    }
   ],
   "source": [
    "from statsmodels.stats.power import TTestIndPower    #A\n",
    "\n",
    "pwr = TTestIndPower()    #B\n",
    "sample = pwr.solve_power(effect_size = 0.5, \n",
    "     power = 0.8, \n",
    "     alpha = 0.05)\n",
    "print(sample)\n",
    "\n",
    "#A Import libraries\n",
    "#B Calculate and print the recommended sample size"
   ]
  },
  {
   "cell_type": "code",
   "execution_count": 8,
   "id": "52ab6ae8-baa7-4a3a-8e9c-d99bef0a2672",
   "metadata": {},
   "outputs": [
    {
     "name": "stdout",
     "output_type": "stream",
     "text": [
      "Ttest_indResult(statistic=nan, pvalue=nan)\n"
     ]
    }
   ],
   "source": [
    "import numpy as np\n",
    "from scipy import stats as st    #A\n",
    "\n",
    "n = 0    #B\n",
    "mu, sigma = 75.5, 6.2\n",
    "mu2, sigma2 = 77.9, 6.5\n",
    "X1 = np.random.normal(mu, sigma, n)\n",
    "X2 = np.random.normal(mu2, sigma2, n)    #C\n",
    "\n",
    "result = st.ttest_ind(X1, X2)\n",
    "print(result)    #D\n",
    "\n",
    "#A Import libraries\n",
    "#B Replace the n value with the recommended sample size\n",
    "#C Generate two normal distributions\n",
    "#D Conduct an independent samples t-test"
   ]
  },
  {
   "cell_type": "code",
   "execution_count": null,
   "id": "84811628-df6e-49df-9207-22acd8dcd196",
   "metadata": {},
   "outputs": [],
   "source": []
  }
 ],
 "metadata": {
  "kernelspec": {
   "display_name": "Python 3 (ipykernel)",
   "language": "python",
   "name": "python3"
  },
  "language_info": {
   "codemirror_mode": {
    "name": "ipython",
    "version": 3
   },
   "file_extension": ".py",
   "mimetype": "text/x-python",
   "name": "python",
   "nbconvert_exporter": "python",
   "pygments_lexer": "ipython3",
   "version": "3.12.5"
  }
 },
 "nbformat": 4,
 "nbformat_minor": 5
}
