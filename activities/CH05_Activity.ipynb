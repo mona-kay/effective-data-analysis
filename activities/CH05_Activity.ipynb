{
 "cells": [
  {
   "cell_type": "markdown",
   "id": "8efacedd-ccf4-46c9-8f80-f8ba43dfe18b",
   "metadata": {},
   "source": [
    "# Chapter 5"
   ]
  },
  {
   "cell_type": "markdown",
   "id": "c27b0ae2-002c-4008-9afe-3579ace3c7b0",
   "metadata": {},
   "source": [
    "## Activity 1"
   ]
  },
  {
   "cell_type": "code",
   "execution_count": 3,
   "id": "c4c134d8-aae3-40f5-bafb-72769e78bae0",
   "metadata": {},
   "outputs": [],
   "source": [
    "import numpy as np    #A\n",
    "from scipy import stats as st\n",
    "\n",
    "np.random.seed(99)    #B\n",
    "\n",
    "x_a = np.random.normal(loc=47, scale=4, size=55)  # C\n",
    "x_b = np.random.normal(loc=53, scale=4, size=65)\n",
    "X1 = np.concatenate([x_a, x_b])\n",
    "X2 = st.skewnorm.rvs(83, size=120) + 51\n",
    "X3 = np.random.exponential(scale=10, size=79) + 44\n",
    "\n",
    "#A Import libraries\n",
    "#B Set random seed for reproducing results\n",
    "#C Generate three non-normal distributions for comparison"
   ]
  },
  {
   "cell_type": "code",
   "execution_count": 5,
   "id": "e13d296d-4708-4fa1-a68e-769db8efe20e",
   "metadata": {},
   "outputs": [
    {
     "name": "stdout",
     "output_type": "stream",
     "text": [
      "KruskalResult(statistic=5.8782865139279465, pvalue=0.052911040490783996)\n"
     ]
    }
   ],
   "source": [
    "H = st.kruskal(X1, X2, X3)\n",
    "print(H)    #A"
   ]
  },
  {
   "cell_type": "code",
   "execution_count": null,
   "id": "fa1f2fc6-0505-4728-95ab-e1be725495da",
   "metadata": {},
   "outputs": [],
   "source": []
  }
 ],
 "metadata": {
  "kernelspec": {
   "display_name": "Python 3 (ipykernel)",
   "language": "python",
   "name": "python3"
  },
  "language_info": {
   "codemirror_mode": {
    "name": "ipython",
    "version": 3
   },
   "file_extension": ".py",
   "mimetype": "text/x-python",
   "name": "python",
   "nbconvert_exporter": "python",
   "pygments_lexer": "ipython3",
   "version": "3.10.6"
  }
 },
 "nbformat": 4,
 "nbformat_minor": 5
}
